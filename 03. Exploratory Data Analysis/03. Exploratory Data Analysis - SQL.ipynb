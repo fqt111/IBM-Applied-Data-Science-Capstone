{
    "cells": [
        {
            "cell_type": "markdown",
            "metadata": {},
            "source": [
                "<center>\n",
                "    <img src=\"https://gitlab.com/ibm/skills-network/courses/placeholder101/-/raw/master/labs/module%201/images/IDSNlogo.png\"  width=\"300\" alt=\"cognitiveclass.ai logo\"  />\n",
                "</center>\n",
                "\n",
                "<h1 align=center><font size = 5>Assignment: SQL Notebook for Peer Assignment</font></h1>\n",
                "\n",
                "Estimated time needed: **60** minutes.\n",
                "\n",
                "## Introduction\n",
                "\n",
                "Using this Python notebook you will:\n",
                "\n",
                "1.  Understand the Spacex DataSet\n",
                "2.  Load the dataset  into the corresponding table in a Db2 database\n",
                "3.  Execute SQL queries to answer assignment questions\n"
            ]
        },
        {
            "cell_type": "markdown",
            "metadata": {},
            "source": [
                "## Overview of the DataSet\n",
                "\n",
                "SpaceX has gained worldwide attention for a series of historic milestones.\n",
                "\n",
                "It is the only private company ever to return a spacecraft from low-earth orbit, which it first accomplished in December 2010.\n",
                "SpaceX advertises Falcon 9 rocket launches on its website with a cost of 62 million dollars wheras other providers cost upward of 165 million dollars each, much of the savings is because Space X can reuse the first stage.\n",
                "\n",
                "Therefore if we can determine if the first stage will land, we can determine the cost of a launch.\n",
                "\n",
                "This information can be used if an alternate company wants to bid against SpaceX for a rocket launch.\n",
                "\n",
                "This dataset includes a record for each payload carried during a SpaceX mission into outer space.\n"
            ]
        },
        {
            "cell_type": "markdown",
            "metadata": {},
            "source": [
                "### Download the datasets\n",
                "\n",
                "This assignment requires you to load the spacex dataset.\n",
                "\n",
                "In many cases the dataset to be analyzed is available as a .CSV (comma separated values) file, perhaps on the internet. Click on the link below to download and save the dataset (.CSV file):\n",
                "\n",
                "<a href=\"https://cf-courses-data.s3.us.cloud-object-storage.appdomain.cloud/IBM-DS0321EN-SkillsNetwork/labs/module_2/data/Spacex.csv?utm_medium=Exinfluencer&utm_source=Exinfluencer&utm_content=000026UJ&utm_term=10006555&utm_id=NA-SkillsNetwork-Channel-SkillsNetworkCoursesIBMDS0321ENSkillsNetwork26802033-2021-01-01\" target=\"_blank\">Spacex DataSet</a>\n"
            ]
        },
        {
            "cell_type": "markdown",
            "metadata": {},
            "source": [
                "### Store the dataset in database table\n",
                "\n",
                "**it is highly recommended to manually load the table using the database console LOAD tool in DB2**.\n",
                "\n",
                "<img src = \"https://cf-courses-data.s3.us.cloud-object-storage.appdomain.cloud/IBM-DS0321EN-SkillsNetwork/labs/module_2/images/spacexload.png\">\n",
                "\n",
                "Now open the Db2 console, open the LOAD tool, Select / Drag the .CSV file for the  dataset, Next create a New Table, and then follow the steps on-screen instructions to load the data. Name the new table as follows:\n",
                "\n",
                "**SPACEXDATASET**\n",
                "\n",
                "**Follow these steps while using old DB2 UI which is having Open Console Screen**\n",
                "\n",
                "**Note:While loading Spacex dataset, ensure that detect datatypes is disabled. Later click on the pencil icon(edit option).**\n",
                "\n",
                "1.  Change the Date Format by manually typing DD-MM-YYYY and timestamp format as DD-MM-YYYY HH\\:MM:SS.\n",
                "\n",
                "    Here you should place the cursor at Date field and manually type as DD-MM-YYYY.\n",
                "\n",
                "2.  Change the PAYLOAD_MASS\\_\\_KG\\_  datatype  to INTEGER.\n",
                "\n",
                "<img src = \"https://cf-courses-data.s3.us.cloud-object-storage.appdomain.cloud/IBM-DS0321EN-SkillsNetwork/labs/module_2/images/spacexload2.png\">\n"
            ]
        },
        {
            "cell_type": "markdown",
            "metadata": {},
            "source": [
                "**Changes to be considered when having DB2 instance with the new UI having Go to UI screen**\n",
                "\n",
                "*   Refer to this insruction in this <a href=\"https://cf-courses-data.s3.us.cloud-object-storage.appdomain.cloud/IBMDeveloperSkillsNetwork-DB0201EN-SkillsNetwork/labs/Labs_Coursera_V5/labs/Lab%20-%20Sign%20up%20for%20IBM%20Cloud%20-%20Create%20Db2%20service%20instance%20-%20Get%20started%20with%20the%20Db2%20console/instructional-labs.md.html?utm_medium=Exinfluencer&utm_source=Exinfluencer&utm_content=000026UJ&utm_term=10006555&utm_id=NA-SkillsNetwork-Channel-SkillsNetworkCoursesIBMDS0321ENSkillsNetwork26802033-2021-01-01\">link</a> for viewing  the new  Go to UI screen.\n",
                "\n",
                "*   Later click on **Data link(below SQL)**  in the Go to UI screen  and click on **Load Data** tab.\n",
                "\n",
                "*   Later browse for the downloaded spacex file.\n",
                "\n",
                "<img src=\"https://cf-courses-data.s3.us.cloud-object-storage.appdomain.cloud/IBM-DS0321EN-SkillsNetwork/labs/module_2/images/browsefile.png\" width=\"800\"/>\n",
                "\n",
                "*   Once done select the schema andload the file.\n",
                "\n",
                " <img src=\"https://cf-courses-data.s3.us.cloud-object-storage.appdomain.cloud/IBM-DS0321EN-SkillsNetwork/labs/module_2/images/spacexload3.png\" width=\"800\"/>\n"
            ]
        },
        {
            "cell_type": "code",
            "execution_count": 2,
            "metadata": {},
            "outputs": [
                {
                    "name": "stdout",
                    "output_type": "stream",
                    "text": [
                        "Collecting sqlalchemy==1.3.9\n",
                        "  Downloading SQLAlchemy-1.3.9.tar.gz (6.0 MB)\n",
                        "     ---------------------------------------- 6.0/6.0 MB 5.4 MB/s eta 0:00:00\n",
                        "  Preparing metadata (setup.py): started\n",
                        "  Preparing metadata (setup.py): finished with status 'done'\n",
                        "Building wheels for collected packages: sqlalchemy\n",
                        "  Building wheel for sqlalchemy (setup.py): started\n",
                        "  Building wheel for sqlalchemy (setup.py): finished with status 'done'\n",
                        "  Created wheel for sqlalchemy: filename=SQLAlchemy-1.3.9-cp37-cp37m-win_amd64.whl size=1163225 sha256=a641583177db7a3e49b1b93e5f0030cf702a80465be94086dfefb7a273c4b277\n",
                        "  Stored in directory: c:\\users\\dan\\appdata\\local\\pip\\cache\\wheels\\03\\71\\13\\010faf12246f72dc76b4150e6e599d13a85b4435e06fb9e51f\n",
                        "Successfully built sqlalchemy\n",
                        "Installing collected packages: sqlalchemy\n",
                        "  Attempting uninstall: sqlalchemy\n",
                        "    Found existing installation: SQLAlchemy 1.3.13\n",
                        "    Uninstalling SQLAlchemy-1.3.13:\n",
                        "      Successfully uninstalled SQLAlchemy-1.3.13\n",
                        "Successfully installed sqlalchemy-1.3.9\n"
                    ]
                },
                {
                    "name": "stderr",
                    "output_type": "stream",
                    "text": [
                        "WARNING: Ignoring invalid distribution -umpy (c:\\users\\dan\\anaconda3\\lib\\site-packages)\n",
                        "WARNING: Ignoring invalid distribution -umpy (c:\\users\\dan\\anaconda3\\lib\\site-packages)\n",
                        "WARNING: Ignoring invalid distribution -umpy (c:\\users\\dan\\anaconda3\\lib\\site-packages)\n",
                        "    WARNING: Ignoring invalid distribution -umpy (c:\\users\\dan\\anaconda3\\lib\\site-packages)\n",
                        "WARNING: Ignoring invalid distribution -umpy (c:\\users\\dan\\anaconda3\\lib\\site-packages)\n",
                        "WARNING: Ignoring invalid distribution -umpy (c:\\users\\dan\\anaconda3\\lib\\site-packages)\n",
                        "WARNING: Ignoring invalid distribution -umpy (c:\\users\\dan\\anaconda3\\lib\\site-packages)\n",
                        "WARNING: Ignoring invalid distribution -umpy (c:\\users\\dan\\anaconda3\\lib\\site-packages)\n",
                        "WARNING: You are using pip version 22.0.3; however, version 22.0.4 is available.\n",
                        "You should consider upgrading via the 'C:\\Users\\Dan\\anaconda3\\python.exe -m pip install --upgrade pip' command.\n"
                    ]
                },
                {
                    "name": "stdout",
                    "output_type": "stream",
                    "text": [
                        "Collecting ibm_db_sa\n",
                        "  Downloading ibm_db_sa-0.3.7.tar.gz (30 kB)\n",
                        "  Preparing metadata (setup.py): started\n",
                        "  Preparing metadata (setup.py): finished with status 'done'\n",
                        "Requirement already satisfied: sqlalchemy>=0.7.3 in c:\\users\\dan\\anaconda3\\lib\\site-packages (from ibm_db_sa) (1.3.9)\n",
                        "Collecting ibm_db>=2.0.0\n",
                        "  Downloading ibm_db-3.1.1.tar.gz (1.1 MB)\n",
                        "     ---------------------------------------- 1.1/1.1 MB 3.7 MB/s eta 0:00:00\n",
                        "  Installing build dependencies: started\n",
                        "  Installing build dependencies: finished with status 'done'\n",
                        "  Getting requirements to build wheel: started\n",
                        "  Getting requirements to build wheel: still running...\n",
                        "  Getting requirements to build wheel: finished with status 'done'\n",
                        "  Installing backend dependencies: started\n",
                        "  Installing backend dependencies: finished with status 'done'\n",
                        "  Preparing metadata (pyproject.toml): started\n",
                        "  Preparing metadata (pyproject.toml): finished with status 'done'\n",
                        "Building wheels for collected packages: ibm_db_sa, ibm_db\n",
                        "  Building wheel for ibm_db_sa (setup.py): started\n",
                        "  Building wheel for ibm_db_sa (setup.py): finished with status 'done'\n",
                        "  Created wheel for ibm_db_sa: filename=ibm_db_sa-0.3.7-py3-none-any.whl size=29309 sha256=f11e3ffd9eb03e4fe8c28017a8b4f88436b038b8e6c06f52b5321c4b46b8111c\n",
                        "  Stored in directory: c:\\users\\dan\\appdata\\local\\pip\\cache\\wheels\\4a\\e9\\e7\\0ee334a6cb2f09ec45978e05837b66f59494b482ef38c7ae33\n",
                        "  Building wheel for ibm_db (pyproject.toml): started\n",
                        "  Building wheel for ibm_db (pyproject.toml): finished with status 'done'\n",
                        "  Created wheel for ibm_db: filename=ibm_db-3.1.1-py3-none-any.whl size=29942326 sha256=ae3c4fadfcfb5e29c3f64e66a42bc636b77f2a89e2e1113ab2683d42ad334fec\n",
                        "  Stored in directory: c:\\users\\dan\\appdata\\local\\pip\\cache\\wheels\\03\\a2\\bf\\27e4a4c9ca57eeea66526c74386df7dfd118d689ab794f1ab6\n",
                        "Successfully built ibm_db_sa ibm_db\n",
                        "Installing collected packages: ibm_db, ibm_db_sa\n",
                        "Successfully installed ibm_db-3.1.1 ibm_db_sa-0.3.7\n"
                    ]
                },
                {
                    "name": "stderr",
                    "output_type": "stream",
                    "text": [
                        "WARNING: Ignoring invalid distribution -umpy (c:\\users\\dan\\anaconda3\\lib\\site-packages)\n",
                        "WARNING: Ignoring invalid distribution -umpy (c:\\users\\dan\\anaconda3\\lib\\site-packages)\n",
                        "WARNING: Ignoring invalid distribution -umpy (c:\\users\\dan\\anaconda3\\lib\\site-packages)\n",
                        "WARNING: Ignoring invalid distribution -umpy (c:\\users\\dan\\anaconda3\\lib\\site-packages)\n",
                        "WARNING: Ignoring invalid distribution -umpy (c:\\users\\dan\\anaconda3\\lib\\site-packages)\n",
                        "WARNING: Ignoring invalid distribution -umpy (c:\\users\\dan\\anaconda3\\lib\\site-packages)\n",
                        "WARNING: Ignoring invalid distribution -umpy (c:\\users\\dan\\anaconda3\\lib\\site-packages)\n",
                        "WARNING: Ignoring invalid distribution -umpy (c:\\users\\dan\\anaconda3\\lib\\site-packages)\n",
                        "WARNING: You are using pip version 22.0.3; however, version 22.0.4 is available.\n",
                        "You should consider upgrading via the 'C:\\Users\\Dan\\anaconda3\\python.exe -m pip install --upgrade pip' command.\n"
                    ]
                },
                {
                    "name": "stdout",
                    "output_type": "stream",
                    "text": [
                        "Collecting ipython-sql\n",
                        "  Downloading ipython_sql-0.4.0-py3-none-any.whl (19 kB)\n",
                        "Collecting prettytable<1\n",
                        "  Downloading prettytable-0.7.2.zip (28 kB)\n",
                        "  Preparing metadata (setup.py): started\n",
                        "  Preparing metadata (setup.py): finished with status 'done'\n",
                        "Requirement already satisfied: ipython-genutils>=0.1.0 in c:\\users\\dan\\anaconda3\\lib\\site-packages (from ipython-sql) (0.2.0)\n",
                        "Collecting sqlparse\n",
                        "  Downloading sqlparse-0.4.2-py3-none-any.whl (42 kB)\n",
                        "     ---------------------------------------- 42.3/42.3 KB 2.0 MB/s eta 0:00:00\n",
                        "Requirement already satisfied: six in c:\\users\\dan\\anaconda3\\lib\\site-packages (from ipython-sql) (1.14.0)\n",
                        "Requirement already satisfied: sqlalchemy>=0.6.7 in c:\\users\\dan\\anaconda3\\lib\\site-packages (from ipython-sql) (1.3.9)\n",
                        "Requirement already satisfied: ipython>=1.0 in c:\\users\\dan\\anaconda3\\lib\\site-packages (from ipython-sql) (7.12.0)\n",
                        "Requirement already satisfied: setuptools>=18.5 in c:\\users\\dan\\anaconda3\\lib\\site-packages (from ipython>=1.0->ipython-sql) (45.2.0.post20200210)\n",
                        "Requirement already satisfied: decorator in c:\\users\\dan\\anaconda3\\lib\\site-packages (from ipython>=1.0->ipython-sql) (4.4.1)\n",
                        "Requirement already satisfied: colorama in c:\\users\\dan\\anaconda3\\lib\\site-packages (from ipython>=1.0->ipython-sql) (0.4.3)\n",
                        "Requirement already satisfied: traitlets>=4.2 in c:\\users\\dan\\anaconda3\\lib\\site-packages (from ipython>=1.0->ipython-sql) (4.3.3)\n",
                        "Requirement already satisfied: pickleshare in c:\\users\\dan\\anaconda3\\lib\\site-packages (from ipython>=1.0->ipython-sql) (0.7.5)\n",
                        "Requirement already satisfied: pygments in c:\\users\\dan\\anaconda3\\lib\\site-packages (from ipython>=1.0->ipython-sql) (2.5.2)\n",
                        "Requirement already satisfied: prompt-toolkit!=3.0.0,!=3.0.1,<3.1.0,>=2.0.0 in c:\\users\\dan\\anaconda3\\lib\\site-packages (from ipython>=1.0->ipython-sql) (3.0.3)\n",
                        "Requirement already satisfied: backcall in c:\\users\\dan\\anaconda3\\lib\\site-packages (from ipython>=1.0->ipython-sql) (0.1.0)\n",
                        "Requirement already satisfied: jedi>=0.10 in c:\\users\\dan\\anaconda3\\lib\\site-packages (from ipython>=1.0->ipython-sql) (0.14.1)\n",
                        "Requirement already satisfied: parso>=0.5.0 in c:\\users\\dan\\anaconda3\\lib\\site-packages (from jedi>=0.10->ipython>=1.0->ipython-sql) (0.5.2)\n",
                        "Requirement already satisfied: wcwidth in c:\\users\\dan\\anaconda3\\lib\\site-packages (from prompt-toolkit!=3.0.0,!=3.0.1,<3.1.0,>=2.0.0->ipython>=1.0->ipython-sql) (0.1.8)\n",
                        "Building wheels for collected packages: prettytable\n",
                        "  Building wheel for prettytable (setup.py): started\n",
                        "  Building wheel for prettytable (setup.py): finished with status 'done'\n",
                        "  Created wheel for prettytable: filename=prettytable-0.7.2-py3-none-any.whl size=13704 sha256=9cf149258413d7cda1ee63c72f5177ebba81ca83978c7f1d9b79d97fca284d74\n",
                        "  Stored in directory: c:\\users\\dan\\appdata\\local\\pip\\cache\\wheels\\b2\\7f\\f6\\f180315b584f00445045ff1699b550fa895d09471337ce21c6\n",
                        "Successfully built prettytable\n",
                        "Installing collected packages: prettytable, sqlparse, ipython-sql\n",
                        "Successfully installed ipython-sql-0.4.0 prettytable-0.7.2 sqlparse-0.4.2\n"
                    ]
                },
                {
                    "name": "stderr",
                    "output_type": "stream",
                    "text": [
                        "WARNING: Ignoring invalid distribution -umpy (c:\\users\\dan\\anaconda3\\lib\\site-packages)\n",
                        "WARNING: Ignoring invalid distribution -umpy (c:\\users\\dan\\anaconda3\\lib\\site-packages)\n",
                        "WARNING: Ignoring invalid distribution -umpy (c:\\users\\dan\\anaconda3\\lib\\site-packages)\n",
                        "WARNING: Ignoring invalid distribution -umpy (c:\\users\\dan\\anaconda3\\lib\\site-packages)\n",
                        "WARNING: Ignoring invalid distribution -umpy (c:\\users\\dan\\anaconda3\\lib\\site-packages)\n",
                        "WARNING: Ignoring invalid distribution -umpy (c:\\users\\dan\\anaconda3\\lib\\site-packages)\n",
                        "WARNING: Ignoring invalid distribution -umpy (c:\\users\\dan\\anaconda3\\lib\\site-packages)\n",
                        "WARNING: Ignoring invalid distribution -umpy (c:\\users\\dan\\anaconda3\\lib\\site-packages)\n",
                        "WARNING: Ignoring invalid distribution -umpy (c:\\users\\dan\\anaconda3\\lib\\site-packages)\n",
                        "WARNING: You are using pip version 22.0.3; however, version 22.0.4 is available.\n",
                        "You should consider upgrading via the 'C:\\Users\\Dan\\anaconda3\\python.exe -m pip install --upgrade pip' command.\n"
                    ]
                }
            ],
            "source": [
                "!pip install sqlalchemy==1.3.9\n",
                "!pip install ibm_db_sa\n",
                "!pip install ipython-sql"
            ]
        },
        {
            "cell_type": "markdown",
            "metadata": {},
            "source": [
                "### Connect to the database\n",
                "\n",
                "Let us first load the SQL extension and establish a connection with the database\n"
            ]
        },
        {
            "cell_type": "code",
            "execution_count": 3,
            "metadata": {},
            "outputs": [],
            "source": [
                "%load_ext sql"
            ]
        },
        {
            "cell_type": "markdown",
            "metadata": {},
            "source": [
                "**DB2 magic in case of new UI service credentials.**\n",
                "\n",
                "<img src =\"https://cf-courses-data.s3.us.cloud-object-storage.appdomain.cloud/IBM-DS0321EN-SkillsNetwork/labs/module_2/images/servicecredentials.png\" width=600>  \n",
                "\n",
                "*   Use the following format.\n",
                "\n",
                "*   Add security=SSL at the end\n",
                "\n",
                "**%sql ibm_db_sa://my-username:my-password\\@my-hostname:my-port/my-db-name?security=SSL**\n"
            ]
        },
        {
            "cell_type": "markdown",
            "metadata": {},
            "source": [
                "Using Service Credentials-2"
            ]
        },
        {
            "cell_type": "code",
            "execution_count": 4,
            "metadata": {},
            "outputs": [],
            "source": [
                "%sql ibm_db_sa://kfm42587:nem9nALHt4oPFozR@3883e7e4-18f5-4afe-be8c-fa31c41761d2.bs2io90l08kqb1od8lcg.databases.appdomain.cloud:31498/bludb?security=SSL"
            ]
        },
        {
            "cell_type": "markdown",
            "metadata": {},
            "source": [
                "## Tasks\n",
                "\n",
                "Now write and execute SQL queries to solve the assignment tasks.\n",
                "\n",
                "### Task 1\n",
                "\n",
                "##### Display the names of the unique launch sites  in the space mission\n"
            ]
        },
        {
            "cell_type": "code",
            "execution_count": 5,
            "metadata": {},
            "outputs": [
                {
                    "name": "stdout",
                    "output_type": "stream",
                    "text": [
                        " * ibm_db_sa://kfm42587:***@3883e7e4-18f5-4afe-be8c-fa31c41761d2.bs2io90l08kqb1od8lcg.databases.appdomain.cloud:31498/bludb\n",
                        "Done.\n"
                    ]
                },
                {
                    "data": {
                        "text/html": [
                            "<table>\n",
                            "    <tr>\n",
                            "        <th>launch_site</th>\n",
                            "    </tr>\n",
                            "    <tr>\n",
                            "        <td>CCAFS LC-40</td>\n",
                            "    </tr>\n",
                            "    <tr>\n",
                            "        <td>CCAFS SLC-40</td>\n",
                            "    </tr>\n",
                            "    <tr>\n",
                            "        <td>KSC LC-39A</td>\n",
                            "    </tr>\n",
                            "    <tr>\n",
                            "        <td>VAFB SLC-4E</td>\n",
                            "    </tr>\n",
                            "</table>"
                        ],
                        "text/plain": [
                            "[('CCAFS LC-40',), ('CCAFS SLC-40',), ('KSC LC-39A',), ('VAFB SLC-4E',)]"
                        ]
                    },
                    "execution_count": 5,
                    "metadata": {},
                    "output_type": "execute_result"
                }
            ],
            "source": [
                "%sql SELECT UNIQUE(LAUNCH_SITE) FROM SPACEXTBL;"
            ]
        },
        {
            "cell_type": "markdown",
            "metadata": {},
            "source": [
                "### Task 2\n",
                "\n",
                "##### Display 5 records where launch sites begin with the string 'CCA'\n"
            ]
        },
        {
            "cell_type": "code",
            "execution_count": 6,
            "metadata": {},
            "outputs": [
                {
                    "name": "stdout",
                    "output_type": "stream",
                    "text": [
                        " * ibm_db_sa://kfm42587:***@3883e7e4-18f5-4afe-be8c-fa31c41761d2.bs2io90l08kqb1od8lcg.databases.appdomain.cloud:31498/bludb\n",
                        "Done.\n"
                    ]
                },
                {
                    "data": {
                        "text/html": [
                            "<table>\n",
                            "    <tr>\n",
                            "        <th>launch_site</th>\n",
                            "    </tr>\n",
                            "    <tr>\n",
                            "        <td>CCAFS LC-40</td>\n",
                            "    </tr>\n",
                            "    <tr>\n",
                            "        <td>CCAFS LC-40</td>\n",
                            "    </tr>\n",
                            "    <tr>\n",
                            "        <td>CCAFS LC-40</td>\n",
                            "    </tr>\n",
                            "    <tr>\n",
                            "        <td>CCAFS LC-40</td>\n",
                            "    </tr>\n",
                            "    <tr>\n",
                            "        <td>CCAFS LC-40</td>\n",
                            "    </tr>\n",
                            "</table>"
                        ],
                        "text/plain": [
                            "[('CCAFS LC-40',),\n",
                            " ('CCAFS LC-40',),\n",
                            " ('CCAFS LC-40',),\n",
                            " ('CCAFS LC-40',),\n",
                            " ('CCAFS LC-40',)]"
                        ]
                    },
                    "execution_count": 6,
                    "metadata": {},
                    "output_type": "execute_result"
                }
            ],
            "source": [
                "%sql SELECT LAUNCH_SITE FROM SPACEXTBL WHERE LAUNCH_SITE LIKE 'CCA%' LIMIT 5;"
            ]
        },
        {
            "cell_type": "markdown",
            "metadata": {},
            "source": [
                "### Task 3\n",
                "\n",
                "##### Display the total payload mass carried by boosters launched by NASA (CRS)\n"
            ]
        },
        {
            "cell_type": "code",
            "execution_count": 12,
            "metadata": {},
            "outputs": [
                {
                    "name": "stdout",
                    "output_type": "stream",
                    "text": [
                        " * ibm_db_sa://kfm42587:***@3883e7e4-18f5-4afe-be8c-fa31c41761d2.bs2io90l08kqb1od8lcg.databases.appdomain.cloud:31498/bludb\n",
                        "Done.\n"
                    ]
                },
                {
                    "data": {
                        "text/html": [
                            "<table>\n",
                            "    <tr>\n",
                            "        <th>total_payload_mass</th>\n",
                            "    </tr>\n",
                            "    <tr>\n",
                            "        <td>45596</td>\n",
                            "    </tr>\n",
                            "</table>"
                        ],
                        "text/plain": [
                            "[(45596,)]"
                        ]
                    },
                    "execution_count": 12,
                    "metadata": {},
                    "output_type": "execute_result"
                }
            ],
            "source": [
                "%sql SELECT SUM(PAYLOAD_MASS__KG_) AS TOTAL_PAYLOAD_MASS FROM SPACEXTBL \\\n",
                "    WHERE CUSTOMER = 'NASA (CRS)';"
            ]
        },
        {
            "cell_type": "markdown",
            "metadata": {},
            "source": [
                "### Task 4\n",
                "\n",
                "##### Display average payload mass carried by booster version F9 v1.1\n"
            ]
        },
        {
            "cell_type": "code",
            "execution_count": 13,
            "metadata": {},
            "outputs": [
                {
                    "name": "stdout",
                    "output_type": "stream",
                    "text": [
                        " * ibm_db_sa://kfm42587:***@3883e7e4-18f5-4afe-be8c-fa31c41761d2.bs2io90l08kqb1od8lcg.databases.appdomain.cloud:31498/bludb\n",
                        "Done.\n"
                    ]
                },
                {
                    "data": {
                        "text/html": [
                            "<table>\n",
                            "    <tr>\n",
                            "        <th>average_payload_mass</th>\n",
                            "    </tr>\n",
                            "    <tr>\n",
                            "        <td>2928</td>\n",
                            "    </tr>\n",
                            "</table>"
                        ],
                        "text/plain": [
                            "[(2928,)]"
                        ]
                    },
                    "execution_count": 13,
                    "metadata": {},
                    "output_type": "execute_result"
                }
            ],
            "source": [
                "%sql SELECT AVG(PAYLOAD_MASS__KG_) AS AVERAGE_PAYLOAD_MASS FROM SPACEXTBL \\\n",
                "    WHERE BOOSTER_VERSION = 'F9 v1.1';"
            ]
        },
        {
            "cell_type": "markdown",
            "metadata": {},
            "source": [
                "### Task 5\n",
                "\n",
                "##### List the date when the first successful landing outcome in ground pad was acheived.\n",
                "\n",
                "*Hint:Use min function*\n"
            ]
        },
        {
            "cell_type": "code",
            "execution_count": 15,
            "metadata": {},
            "outputs": [
                {
                    "name": "stdout",
                    "output_type": "stream",
                    "text": [
                        " * ibm_db_sa://kfm42587:***@3883e7e4-18f5-4afe-be8c-fa31c41761d2.bs2io90l08kqb1od8lcg.databases.appdomain.cloud:31498/bludb\n",
                        "Done.\n"
                    ]
                },
                {
                    "data": {
                        "text/html": [
                            "<table>\n",
                            "    <tr>\n",
                            "        <th>first_successful_ground_landing</th>\n",
                            "    </tr>\n",
                            "    <tr>\n",
                            "        <td>2015-12-22</td>\n",
                            "    </tr>\n",
                            "</table>"
                        ],
                        "text/plain": [
                            "[(datetime.date(2015, 12, 22),)]"
                        ]
                    },
                    "execution_count": 15,
                    "metadata": {},
                    "output_type": "execute_result"
                }
            ],
            "source": [
                "%sql SELECT MIN(DATE) AS FIRST_SUCCESSFUL_GROUND_LANDING FROM SPACEXTBL \\\n",
                "    WHERE LANDING__OUTCOME = 'Success (ground pad)';"
            ]
        },
        {
            "cell_type": "markdown",
            "metadata": {},
            "source": [
                "### Task 6\n",
                "\n",
                "##### List the names of the boosters which have success in drone ship and have payload mass greater than 4000 but less than 6000\n"
            ]
        },
        {
            "cell_type": "code",
            "execution_count": 36,
            "metadata": {},
            "outputs": [
                {
                    "name": "stdout",
                    "output_type": "stream",
                    "text": [
                        " * ibm_db_sa://kfm42587:***@3883e7e4-18f5-4afe-be8c-fa31c41761d2.bs2io90l08kqb1od8lcg.databases.appdomain.cloud:31498/bludb\n",
                        "Done.\n"
                    ]
                },
                {
                    "data": {
                        "text/html": [
                            "<table>\n",
                            "    <tr>\n",
                            "        <th>booster_version</th>\n",
                            "    </tr>\n",
                            "    <tr>\n",
                            "        <td>F9 FT B1022</td>\n",
                            "    </tr>\n",
                            "    <tr>\n",
                            "        <td>F9 FT B1026</td>\n",
                            "    </tr>\n",
                            "    <tr>\n",
                            "        <td>F9 FT  B1021.2</td>\n",
                            "    </tr>\n",
                            "    <tr>\n",
                            "        <td>F9 FT  B1031.2</td>\n",
                            "    </tr>\n",
                            "</table>"
                        ],
                        "text/plain": [
                            "[('F9 FT B1022',), ('F9 FT B1026',), ('F9 FT  B1021.2',), ('F9 FT  B1031.2',)]"
                        ]
                    },
                    "execution_count": 36,
                    "metadata": {},
                    "output_type": "execute_result"
                }
            ],
            "source": [
                "%sql SELECT BOOSTER_VERSION FROM SPACEXTBL \\\n",
                "    WHERE (LANDING__OUTCOME = 'Success (drone ship)') AND (PAYLOAD_MASS__KG_ BETWEEN 4000 AND 6000);"
            ]
        },
        {
            "cell_type": "markdown",
            "metadata": {},
            "source": [
                "### Task 7\n",
                "\n",
                "##### List the total number of successful and failure mission outcomes\n"
            ]
        },
        {
            "cell_type": "code",
            "execution_count": 49,
            "metadata": {},
            "outputs": [
                {
                    "name": "stdout",
                    "output_type": "stream",
                    "text": [
                        " * ibm_db_sa://kfm42587:***@3883e7e4-18f5-4afe-be8c-fa31c41761d2.bs2io90l08kqb1od8lcg.databases.appdomain.cloud:31498/bludb\n",
                        "Done.\n"
                    ]
                },
                {
                    "data": {
                        "text/html": [
                            "<table>\n",
                            "    <tr>\n",
                            "        <th>mission_outcome</th>\n",
                            "        <th>total_number</th>\n",
                            "    </tr>\n",
                            "    <tr>\n",
                            "        <td>Failure (in flight)</td>\n",
                            "        <td>1</td>\n",
                            "    </tr>\n",
                            "    <tr>\n",
                            "        <td>Success</td>\n",
                            "        <td>99</td>\n",
                            "    </tr>\n",
                            "    <tr>\n",
                            "        <td>Success (payload status unclear)</td>\n",
                            "        <td>1</td>\n",
                            "    </tr>\n",
                            "</table>"
                        ],
                        "text/plain": [
                            "[('Failure (in flight)', 1),\n",
                            " ('Success', 99),\n",
                            " ('Success (payload status unclear)', 1)]"
                        ]
                    },
                    "execution_count": 49,
                    "metadata": {},
                    "output_type": "execute_result"
                }
            ],
            "source": [
                "%sql SELECT MISSION_OUTCOME, COUNT(MISSION_OUTCOME) AS TOTAL_NUMBER FROM SPACEXTBL GROUP BY MISSION_OUTCOME;"
            ]
        },
        {
            "cell_type": "markdown",
            "metadata": {},
            "source": [
                "### Task 8\n",
                "\n",
                "##### List the   names of the booster_versions which have carried the maximum payload mass. Use a subquery\n"
            ]
        },
        {
            "cell_type": "code",
            "execution_count": 54,
            "metadata": {},
            "outputs": [
                {
                    "name": "stdout",
                    "output_type": "stream",
                    "text": [
                        " * ibm_db_sa://kfm42587:***@3883e7e4-18f5-4afe-be8c-fa31c41761d2.bs2io90l08kqb1od8lcg.databases.appdomain.cloud:31498/bludb\n",
                        "Done.\n"
                    ]
                },
                {
                    "data": {
                        "text/html": [
                            "<table>\n",
                            "    <tr>\n",
                            "        <th>booster_version</th>\n",
                            "    </tr>\n",
                            "    <tr>\n",
                            "        <td>F9 B5 B1048.4</td>\n",
                            "    </tr>\n",
                            "    <tr>\n",
                            "        <td>F9 B5 B1048.5</td>\n",
                            "    </tr>\n",
                            "    <tr>\n",
                            "        <td>F9 B5 B1049.4</td>\n",
                            "    </tr>\n",
                            "    <tr>\n",
                            "        <td>F9 B5 B1049.5</td>\n",
                            "    </tr>\n",
                            "    <tr>\n",
                            "        <td>F9 B5 B1049.7</td>\n",
                            "    </tr>\n",
                            "    <tr>\n",
                            "        <td>F9 B5 B1051.3</td>\n",
                            "    </tr>\n",
                            "    <tr>\n",
                            "        <td>F9 B5 B1051.4</td>\n",
                            "    </tr>\n",
                            "    <tr>\n",
                            "        <td>F9 B5 B1051.6</td>\n",
                            "    </tr>\n",
                            "    <tr>\n",
                            "        <td>F9 B5 B1056.4</td>\n",
                            "    </tr>\n",
                            "    <tr>\n",
                            "        <td>F9 B5 B1058.3</td>\n",
                            "    </tr>\n",
                            "    <tr>\n",
                            "        <td>F9 B5 B1060.2</td>\n",
                            "    </tr>\n",
                            "    <tr>\n",
                            "        <td>F9 B5 B1060.3</td>\n",
                            "    </tr>\n",
                            "</table>"
                        ],
                        "text/plain": [
                            "[('F9 B5 B1048.4',),\n",
                            " ('F9 B5 B1048.5',),\n",
                            " ('F9 B5 B1049.4',),\n",
                            " ('F9 B5 B1049.5',),\n",
                            " ('F9 B5 B1049.7',),\n",
                            " ('F9 B5 B1051.3',),\n",
                            " ('F9 B5 B1051.4',),\n",
                            " ('F9 B5 B1051.6',),\n",
                            " ('F9 B5 B1056.4',),\n",
                            " ('F9 B5 B1058.3',),\n",
                            " ('F9 B5 B1060.2',),\n",
                            " ('F9 B5 B1060.3',)]"
                        ]
                    },
                    "execution_count": 54,
                    "metadata": {},
                    "output_type": "execute_result"
                }
            ],
            "source": [
                "%sql SELECT DISTINCT(BOOSTER_VERSION) FROM SPACEXTBL \\\n",
                "    WHERE PAYLOAD_MASS__KG_ = (SELECT MAX(PAYLOAD_MASS__KG_) FROM SPACEXTBL);"
            ]
        },
        {
            "cell_type": "markdown",
            "metadata": {},
            "source": [
                "### Task 9\n",
                "\n",
                "##### List the failed landing_outcomes in drone ship, their booster versions, and launch site names for in year 2015\n"
            ]
        },
        {
            "cell_type": "code",
            "execution_count": 58,
            "metadata": {},
            "outputs": [
                {
                    "name": "stdout",
                    "output_type": "stream",
                    "text": [
                        " * ibm_db_sa://kfm42587:***@3883e7e4-18f5-4afe-be8c-fa31c41761d2.bs2io90l08kqb1od8lcg.databases.appdomain.cloud:31498/bludb\n",
                        "Done.\n"
                    ]
                },
                {
                    "data": {
                        "text/html": [
                            "<table>\n",
                            "    <tr>\n",
                            "        <th>booster_version</th>\n",
                            "        <th>launch_site</th>\n",
                            "    </tr>\n",
                            "    <tr>\n",
                            "        <td>F9 v1.1 B1012</td>\n",
                            "        <td>CCAFS LC-40</td>\n",
                            "    </tr>\n",
                            "    <tr>\n",
                            "        <td>F9 v1.1 B1015</td>\n",
                            "        <td>CCAFS LC-40</td>\n",
                            "    </tr>\n",
                            "</table>"
                        ],
                        "text/plain": [
                            "[('F9 v1.1 B1012', 'CCAFS LC-40'), ('F9 v1.1 B1015', 'CCAFS LC-40')]"
                        ]
                    },
                    "execution_count": 58,
                    "metadata": {},
                    "output_type": "execute_result"
                }
            ],
            "source": [
                "%sql SELECT BOOSTER_VERSION, LAUNCH_SITE FROM SPACEXTBL \\\n",
                "    WHERE (LANDING__OUTCOME = 'Failure (drone ship)') AND (EXTRACT(YEAR FROM DATE) = '2015');"
            ]
        },
        {
            "cell_type": "markdown",
            "metadata": {},
            "source": [
                "### Task 10\n",
                "\n",
                "##### Rank the count of landing outcomes (such as Failure (drone ship) or Success (ground pad)) between the date 2010-06-04 and 2017-03-20, in descending order\n"
            ]
        },
        {
            "cell_type": "code",
            "execution_count": 66,
            "metadata": {},
            "outputs": [
                {
                    "name": "stdout",
                    "output_type": "stream",
                    "text": [
                        " * ibm_db_sa://kfm42587:***@3883e7e4-18f5-4afe-be8c-fa31c41761d2.bs2io90l08kqb1od8lcg.databases.appdomain.cloud:31498/bludb\n",
                        "Done.\n"
                    ]
                },
                {
                    "data": {
                        "text/html": [
                            "<table>\n",
                            "    <tr>\n",
                            "        <th>landing__outcome</th>\n",
                            "        <th>total_number</th>\n",
                            "    </tr>\n",
                            "    <tr>\n",
                            "        <td>No attempt</td>\n",
                            "        <td>10</td>\n",
                            "    </tr>\n",
                            "    <tr>\n",
                            "        <td>Failure (drone ship)</td>\n",
                            "        <td>5</td>\n",
                            "    </tr>\n",
                            "    <tr>\n",
                            "        <td>Success (drone ship)</td>\n",
                            "        <td>5</td>\n",
                            "    </tr>\n",
                            "    <tr>\n",
                            "        <td>Controlled (ocean)</td>\n",
                            "        <td>3</td>\n",
                            "    </tr>\n",
                            "    <tr>\n",
                            "        <td>Success (ground pad)</td>\n",
                            "        <td>3</td>\n",
                            "    </tr>\n",
                            "    <tr>\n",
                            "        <td>Failure (parachute)</td>\n",
                            "        <td>2</td>\n",
                            "    </tr>\n",
                            "    <tr>\n",
                            "        <td>Uncontrolled (ocean)</td>\n",
                            "        <td>2</td>\n",
                            "    </tr>\n",
                            "    <tr>\n",
                            "        <td>Precluded (drone ship)</td>\n",
                            "        <td>1</td>\n",
                            "    </tr>\n",
                            "</table>"
                        ],
                        "text/plain": [
                            "[('No attempt', 10),\n",
                            " ('Failure (drone ship)', 5),\n",
                            " ('Success (drone ship)', 5),\n",
                            " ('Controlled (ocean)', 3),\n",
                            " ('Success (ground pad)', 3),\n",
                            " ('Failure (parachute)', 2),\n",
                            " ('Uncontrolled (ocean)', 2),\n",
                            " ('Precluded (drone ship)', 1)]"
                        ]
                    },
                    "execution_count": 66,
                    "metadata": {},
                    "output_type": "execute_result"
                }
            ],
            "source": [
                "%sql SELECT LANDING__OUTCOME, COUNT(LANDING__OUTCOME) AS TOTAL_NUMBER FROM SPACEXTBL \\\n",
                "    WHERE DATE BETWEEN '2010-06-04' AND '2017-03-20' \\\n",
                "    GROUP BY LANDING__OUTCOME \\\n",
                "    ORDER BY TOTAL_NUMBER DESC;"
            ]
        },
        {
            "cell_type": "markdown",
            "metadata": {},
            "source": [
                "### Reference Links\n",
                "\n",
                "*   <a href =\"https://cf-courses-data.s3.us.cloud-object-storage.appdomain.cloud/IBMDeveloperSkillsNetwork-DB0201EN-SkillsNetwork/labs/Labs_Coursera_V5/labs/Lab%20-%20String%20Patterns%20-%20Sorting%20-%20Grouping/instructional-labs.md.html?utm_medium=Exinfluencer&utm_source=Exinfluencer&utm_content=000026UJ&utm_term=10006555&utm_id=NA-SkillsNetwork-Channel-SkillsNetworkCoursesIBMDS0321ENSkillsNetwork26802033-2021-01-01&origin=www.coursera.org\">Hands-on Lab : String Patterns, Sorting and Grouping</a>\n",
                "\n",
                "*   <a  href=\"https://cf-courses-data.s3.us.cloud-object-storage.appdomain.cloud/IBMDeveloperSkillsNetwork-DB0201EN-SkillsNetwork/labs/Labs_Coursera_V5/labs/Lab%20-%20Built-in%20functions%20/Hands-on_Lab__Built-in_Functions.md.html?utm_medium=Exinfluencer&utm_source=Exinfluencer&utm_content=000026UJ&utm_term=10006555&utm_id=NA-SkillsNetwork-Channel-SkillsNetworkCoursesIBMDS0321ENSkillsNetwork26802033-2021-01-01&origin=www.coursera.org\">Hands-on Lab: Built-in functions</a>\n",
                "\n",
                "*   <a  href=\"https://cf-courses-data.s3.us.cloud-object-storage.appdomain.cloud/IBMDeveloperSkillsNetwork-DB0201EN-SkillsNetwork/labs/Labs_Coursera_V5/labs/Lab%20-%20Sub-queries%20and%20Nested%20SELECTs%20/instructional-labs.md.html?utm_medium=Exinfluencer&utm_source=Exinfluencer&utm_content=000026UJ&utm_term=10006555&utm_id=NA-SkillsNetwork-Channel-SkillsNetworkCoursesIBMDS0321ENSkillsNetwork26802033-2021-01-01&origin=www.coursera.org\">Hands-on Lab : Sub-queries and Nested SELECT Statements</a>\n",
                "\n",
                "*   <a href=\"https://cf-courses-data.s3.us.cloud-object-storage.appdomain.cloud/IBMDeveloperSkillsNetwork-DB0201EN-SkillsNetwork/labs/Module%205/DB0201EN-Week3-1-3-SQLmagic.ipynb?utm_medium=Exinfluencer&utm_source=Exinfluencer&utm_content=000026UJ&utm_term=10006555&utm_id=NA-SkillsNetwork-Channel-SkillsNetworkCoursesIBMDS0321ENSkillsNetwork26802033-2021-01-01\">Hands-on Tutorial: Accessing Databases with SQL magic</a>\n",
                "\n",
                "*   <a href= \"https://cf-courses-data.s3.us.cloud-object-storage.appdomain.cloud/IBMDeveloperSkillsNetwork-DB0201EN-SkillsNetwork/labs/Module%205/DB0201EN-Week3-1-4-Analyzing.ipynb?utm_medium=Exinfluencer&utm_source=Exinfluencer&utm_content=000026UJ&utm_term=10006555&utm_id=NA-SkillsNetwork-Channel-SkillsNetworkCoursesIBMDS0321ENSkillsNetwork26802033-2021-01-01\">Hands-on Lab: Analyzing a real World Data Set</a>\n"
            ]
        },
        {
            "cell_type": "markdown",
            "metadata": {},
            "source": [
                "## Author(s)\n",
                "\n",
                "<h4> Lakshmi Holla </h4>\n"
            ]
        },
        {
            "cell_type": "markdown",
            "metadata": {},
            "source": [
                "## Other Contributors\n",
                "\n",
                "<h4> Rav Ahuja </h4>\n"
            ]
        },
        {
            "cell_type": "markdown",
            "metadata": {},
            "source": [
                "## Change log\n",
                "\n",
                "| Date       | Version | Changed by    | Change Description        |\n",
                "| ---------- | ------- | ------------- | ------------------------- |\n",
                "| 2021-10-12 | 0.4     | Lakshmi Holla | Changed markdown          |\n",
                "| 2021-08-24 | 0.3     | Lakshmi Holla | Added library update      |\n",
                "| 2021-07-09 | 0.2     | Lakshmi Holla | Changes made in magic sql |\n",
                "| 2021-05-20 | 0.1     | Lakshmi Holla | Created Initial Version   |\n"
            ]
        },
        {
            "cell_type": "markdown",
            "metadata": {},
            "source": [
                "## <h3 align=\"center\"> © IBM Corporation 2021. All rights reserved. <h3/>\n"
            ]
        }
    ],
    "metadata": {
        "kernelspec": {
            "display_name": "Python 3.8",
            "language": "python",
            "name": "python3"
        },
        "language_info": {
            "codemirror_mode": {
                "name": "ipython",
                "version": 3
            },
            "file_extension": ".py",
            "mimetype": "text/x-python",
            "name": "python",
            "nbconvert_exporter": "python",
            "pygments_lexer": "ipython3",
            "version": "3.8.12"
        }
    },
    "nbformat": 4,
    "nbformat_minor": 4
}
